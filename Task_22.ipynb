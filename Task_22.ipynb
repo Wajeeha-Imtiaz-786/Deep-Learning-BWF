{
  "nbformat": 4,
  "nbformat_minor": 0,
  "metadata": {
    "colab": {
      "provenance": []
    },
    "kernelspec": {
      "name": "python3",
      "display_name": "Python 3"
    },
    "language_info": {
      "name": "python"
    }
  },
  "cells": [
    {
      "cell_type": "code",
      "execution_count": 1,
      "metadata": {
        "id": "svZXZdO4N7Nx"
      },
      "outputs": [],
      "source": [
        "# Supervised Learning\n",
        "from sklearn.linear_model import LinearRegression\n",
        "\n",
        "# Create a supervised learning model\n",
        "model = LinearRegression()\n",
        "\n",
        "# Train the model using labeled data\n",
        "model.fit(X_train, y_train)\n",
        "\n",
        "# Make predictions on new data\n",
        "y_pred = model.predict(X_test)\n",
        "\n",
        "# Unsupervised Learning\n",
        "from sklearn.cluster import KMeans\n",
        "\n",
        "# Create an unsupervised learning model\n",
        "model = KMeans(n_clusters=3)\n",
        "\n",
        "# Train the model using unlabeled data\n",
        "model.fit(X)\n",
        "\n",
        "# Assign cluster labels to the data points\n",
        "labels = model.labels_\n",
        "\n",
        "# Self-Supervised Learning\n",
        "import tensorflow as tf\n",
        "from tensorflow.keras.layers import Dense, Input\n",
        "from tensorflow.keras.models import Model\n",
        "\n",
        "# Create a self-supervised learning model\n",
        "input = Input(shape=(input_dim,))\n",
        "hidden = Dense(256, activation='relu')(input)\n",
        "output = Dense(input_dim, activation='sigmoid')(hidden)\n",
        "model = Model(inputs=input, outputs=output)\n",
        "\n",
        "# Train the model using unlabeled data\n",
        "model.compile(optimizer='adam', loss='binary_crossentropy')\n",
        "model.fit(X, X, epochs=10, batch_size=32)\n",
        "\n",
        "# Reinforcement Learning\n",
        "import gym\n",
        "\n",
        "# Create an environment for reinforcement learning\n",
        "env = gym.make('CartPole-v1')\n",
        "\n",
        "# Define the reinforcement learning agent\n",
        "agent = DQNAgent()\n",
        "\n",
        "# Train the agent using the environment\n",
        "for episode in range(num_episodes):\n",
        "    state = env.reset()\n",
        "    done = False\n",
        "\n",
        "    while not done:\n",
        "        action = agent.act(state)\n",
        "        next_state, reward, done, _ = env.step(action)\n",
        "        agent.remember(state, action, reward, next_state, done)\n",
        "        agent.train()\n",
        "        state = next_state\n"
      ]
    }
  ]
}