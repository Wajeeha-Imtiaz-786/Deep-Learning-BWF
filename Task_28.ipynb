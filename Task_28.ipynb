{
  "nbformat": 4,
  "nbformat_minor": 0,
  "metadata": {
    "colab": {
      "provenance": []
    },
    "kernelspec": {
      "name": "python3",
      "display_name": "Python 3"
    },
    "language_info": {
      "name": "python"
    }
  },
  "cells": [
    {
      "cell_type": "code",
      "execution_count": null,
      "metadata": {
        "id": "fFkRGojL5KeJ"
      },
      "outputs": [],
      "source": [
        "import tensorflow as tf\n",
        "from tensorflow.keras.models import Sequential\n",
        "from tensorflow.keras.layers import Conv1D, Conv2D, MaxPooling1D, MaxPooling2D, Flatten, Dense\n",
        "\n",
        "# 1D CNN\n",
        "model_1d = Sequential()\n",
        "model_1d.add(Conv1D(32, 3, activation='relu', input_shape=(100, 1)))\n",
        "model_1d.add(MaxPooling1D(2))\n",
        "model_1d.add(Conv1D(64, 3, activation='relu'))\n",
        "model_1d.add(MaxPooling1D(2))\n",
        "model_1d.add(Flatten())\n",
        "model_1d.add(Dense(64, activation='relu'))\n",
        "model_1d.add(Dense(10, activation='softmax'))\n",
        "\n",
        "# 2D CNN\n",
        "model_2d = Sequential()\n",
        "model_2d.add(Conv2D(32, (3, 3), activation='relu', input_shape=(32, 32, 3)))\n",
        "model_2d.add(MaxPooling2D((2, 2)))\n",
        "model_2d.add(Conv2D(64, (3, 3), activation='relu'))\n",
        "model_2d.add(MaxPooling2D((2, 2)))\n",
        "model_2d.add(Flatten())\n",
        "model_2d.add(Dense(64, activation='relu'))\n",
        "model_2d.add(Dense(10, activation='softmax'))\n",
        "\n",
        "# Compile and train the models\n",
        "model_1d.compile(optimizer='adam', loss='categorical_crossentropy', metrics=['accuracy'])\n",
        "model_1d.fit(train_images_1d, train_labels, epochs=10, batch_size=32)\n",
        "\n",
        "model_2d.compile(optimizer='adam', loss='categorical_crossentropy', metrics=['accuracy'])\n",
        "model_2d.fit(train_images_2d, train_labels, epochs=10, batch_size=32)\n",
        "\n",
        "# Evaluate the models\n",
        "test_loss_1d, test_acc_1d = model_1d.evaluate(test_images_1d, test_labels)\n",
        "print(f'1D CNN Test loss: {test_loss_1d}, Test accuracy: {test_acc_1d}')\n",
        "\n",
        "test_loss_2d, test_acc_2d = model_2d.evaluate(test_images_2d, test_labels)\n",
        "print(f'2D CNN Test loss: {test_loss_2d}, Test accuracy: {test_acc_2d}')\n"
      ]
    }
  ]
}