{
  "nbformat": 4,
  "nbformat_minor": 0,
  "metadata": {
    "colab": {
      "provenance": []
    },
    "kernelspec": {
      "name": "python3",
      "display_name": "Python 3"
    },
    "language_info": {
      "name": "python"
    }
  },
  "cells": [
    {
      "cell_type": "code",
      "execution_count": 2,
      "metadata": {
        "colab": {
          "base_uri": "https://localhost:8080/"
        },
        "id": "Nx3ReCcVTVeQ",
        "outputId": "e4afed81-3c68-4db0-ea11-72291c1c30b3"
      },
      "outputs": [
        {
          "output_type": "stream",
          "name": "stdout",
          "text": [
            "Original Data:\n",
            "     A     B   C   D     E   F   G\n",
            "0  1.0   7.0  13  19  25.0  31  37\n",
            "1  2.0   8.0  14  20  26.0  32  38\n",
            "2  NaN   9.0  15  21  27.0  33  39\n",
            "3  4.0   NaN  16  22  28.0  34  40\n",
            "4  5.0  11.0  17  23   NaN  35  41\n",
            "5  6.0  12.0  18  24  30.0  36  42\n",
            "\n",
            "Filled Data:\n",
            "     A     B   C   D     E   F   G\n",
            "0  1.0   7.0  13  19  25.0  31  37\n",
            "1  2.0   8.0  14  20  26.0  32  38\n",
            "2  0.0   9.0  15  21  27.0  33  39\n",
            "3  4.0   0.0  16  22  28.0  34  40\n",
            "4  5.0  11.0  17  23   0.0  35  41\n",
            "5  6.0  12.0  18  24  30.0  36  42\n",
            "\n",
            "Replaced Data:\n",
            "     A     B   C   D     E   F   G\n",
            "0  1.0   7.0  13  19  25.0  31  37\n",
            "1  2.0   8.0  14  20  26.0  32  38\n",
            "2  NaN   9.0  15  21  27.0  33  39\n",
            "3  4.0   NaN  16  22  28.0  34  40\n",
            "4  5.0  11.0  17  23   NaN  35  41\n",
            "5  6.0  12.0  18  24  30.0  36  42\n",
            "\n",
            "Data without Duplicates:\n",
            "     A     B   C   D     E   F   G\n",
            "0  1.0   7.0  13  19  25.0  31  37\n",
            "1  2.0   8.0  14  20  26.0  32  38\n",
            "2  NaN   9.0  15  21  27.0  33  39\n",
            "3  4.0   NaN  16  22  28.0  34  40\n",
            "4  5.0  11.0  17  23   NaN  35  41\n",
            "5  6.0  12.0  18  24  30.0  36  42\n",
            "\n",
            "Data with Outliers:\n",
            "Empty DataFrame\n",
            "Columns: [A, B, C, D, E, F, G]\n",
            "Index: []\n",
            "\n",
            "Data without Outliers:\n",
            "     A     B   C   D     E   F   G\n",
            "0  1.0   7.0  13  19  25.0  31  37\n",
            "1  2.0   8.0  14  20  26.0  32  38\n",
            "2  NaN   9.0  15  21  27.0  33  39\n",
            "3  4.0   NaN  16  22  28.0  34  40\n",
            "4  5.0  11.0  17  23   NaN  35  41\n",
            "5  6.0  12.0  18  24  30.0  36  42\n"
          ]
        }
      ],
      "source": [
        "import pandas as pd\n",
        "\n",
        "# Creating example dataset with missing values, duplicates, and outliers\n",
        "data = pd.DataFrame({'A': [1, 2, None, 4, 5, 6],\n",
        "                     'B': [7, 8, 9, None, 11, 12],\n",
        "                     'C': [13, 14, 15, 16, 17, 18],\n",
        "                     'D': [19, 20, 21, 22, 23, 24],\n",
        "                     'E': [25, 26, 27, 28, None, 30],\n",
        "                     'F': [31, 32, 33, 34, 35, 36],\n",
        "                     'G': [37, 38, 39, 40, 41, 42]})\n",
        "\n",
        "# Handling missing data\n",
        "data_filled = data.fillna(0)  # Fill missing values with 0\n",
        "data_replaced = data.replace({None: -1})  # Replace None values with -1\n",
        "\n",
        "# Removing duplicates\n",
        "data_no_duplicates = data.drop_duplicates()\n",
        "\n",
        "# Detecting and removing outliers\n",
        "outliers = data[(data['C'] < 10) | (data['C'] > 30)]  # Example outlier detection based on a condition\n",
        "data_no_outliers = data[~((data['C'] < 10) | (data['C'] > 30))]  # Remove outliers based on a condition\n",
        "\n",
        "# Print the results\n",
        "print(\"Original Data:\")\n",
        "print(data)\n",
        "print(\"\\nFilled Data:\")\n",
        "print(data_filled)\n",
        "print(\"\\nReplaced Data:\")\n",
        "print(data_replaced)\n",
        "print(\"\\nData without Duplicates:\")\n",
        "print(data_no_duplicates)\n",
        "print(\"\\nData with Outliers:\")\n",
        "print(outliers)\n",
        "print(\"\\nData without Outliers:\")\n",
        "print(data_no_outliers)\n"
      ]
    },
    {
      "cell_type": "code",
      "source": [],
      "metadata": {
        "id": "N68O75QBTycH"
      },
      "execution_count": null,
      "outputs": []
    }
  ]
}