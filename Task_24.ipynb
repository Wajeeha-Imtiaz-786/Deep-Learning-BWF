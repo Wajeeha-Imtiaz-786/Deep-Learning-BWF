{
  "nbformat": 4,
  "nbformat_minor": 0,
  "metadata": {
    "colab": {
      "provenance": []
    },
    "kernelspec": {
      "name": "python3",
      "display_name": "Python 3"
    },
    "language_info": {
      "name": "python"
    }
  },
  "cells": [
    {
      "cell_type": "code",
      "execution_count": null,
      "metadata": {
        "id": "PKPJSbPKG42I"
      },
      "outputs": [],
      "source": [
        "import pandas as pd\n",
        "from sklearn.preprocessing import StandardScaler, LabelEncoder, OneHotEncoder\n",
        "from sklearn.feature_selection import SelectKBest, chi2\n",
        "from sklearn.model_selection import train_test_split\n",
        "\n",
        "#Load the dataset\n",
        "data = pd.read_csv('/content/creditcard.csv')\n",
        "\n",
        "#Separate features and target variable\n",
        "X = data.drop('Time', axis=1)\n",
        "y = data['Time']\n",
        "\n",
        "#Data preprocessing\n",
        "#1. Handling missing values\n",
        "X.fillna(0, inplace=True) # Replace missing values with 0\n",
        "\n",
        "#2. Feature scaling\n",
        "scaler = StandardScaler()\n",
        "X_scaled = scaler.fit_transform(X)\n",
        "\n",
        "#3. Categorical feature encoding\n",
        "label_encoder = LabelEncoder()\n",
        "X['Amount'] = label_encoder.fit_transform(X['Amount'])\n",
        "\n",
        "#4. One-hot encoding\n",
        "one_hot_encoder = OneHotEncoder()\n",
        "X_encoded = one_hot_encoder.fit_transform(X)\n",
        "\n",
        "#Feature engineering\n",
        "#1. Feature selection\n",
        "selector = SelectKBest(score_func=chi2, k=5) # Select top 5 features\n",
        "X_selected = selector.fit_transform(X_encoded, y)\n",
        "\n",
        "#2. Creating new features\n",
        "X['new_feature'] = X['feature1'] + X['feature2']\n",
        "\n",
        "#Split the data into training and testing sets\n",
        "X_train, X_test, y_train, y_test = train_test_split(X_selected, y, test_size=0.2, random_state=42)\n",
        "\n",
        "\n",
        "\n"
      ]
    },
    {
      "cell_type": "code",
      "source": [],
      "metadata": {
        "id": "peLFZjbqH4ma"
      },
      "execution_count": null,
      "outputs": []
    }
  ]
}