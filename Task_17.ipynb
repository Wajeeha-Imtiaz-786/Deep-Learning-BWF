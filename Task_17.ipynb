{
  "nbformat": 4,
  "nbformat_minor": 0,
  "metadata": {
    "colab": {
      "provenance": []
    },
    "kernelspec": {
      "name": "python3",
      "display_name": "Python 3"
    },
    "language_info": {
      "name": "python"
    }
  },
  "cells": [
    {
      "cell_type": "code",
      "execution_count": 1,
      "metadata": {
        "colab": {
          "base_uri": "https://localhost:8080/"
        },
        "id": "-0bzqx68RiMZ",
        "outputId": "a2868547-83d0-4cb3-f4ce-e4556147b8f4"
      },
      "outputs": [
        {
          "output_type": "stream",
          "name": "stdout",
          "text": [
            "KNN Accuracy: 1.0\n"
          ]
        }
      ],
      "source": [
        "from sklearn.datasets import load_iris\n",
        "from sklearn.model_selection import train_test_split\n",
        "from sklearn.neighbors import KNeighborsClassifier\n",
        "from sklearn.metrics import accuracy_score\n",
        "\n",
        "# Load the Iris dataset\n",
        "iris = load_iris()\n",
        "X = iris.data\n",
        "y = iris.target\n",
        "\n",
        "# Split the dataset into training and testing sets\n",
        "X_train, X_test, y_train, y_test = train_test_split(X, y, test_size=0.2, random_state=42)\n",
        "\n",
        "# Initialize the KNN classifier with k=3 (you can choose any value of k)\n",
        "k_value = 3\n",
        "clf_knn = KNeighborsClassifier(n_neighbors=k_value)\n",
        "\n",
        "# Train the classifier\n",
        "clf_knn.fit(X_train, y_train)\n",
        "\n",
        "# Predict the labels for test set\n",
        "y_pred_knn = clf_knn.predict(X_test)\n",
        "\n",
        "# Calculate accuracy\n",
        "accuracy_knn = accuracy_score(y_test, y_pred_knn)\n",
        "\n",
        "print(\"KNN Accuracy:\", accuracy_knn)\n"
      ]
    }
  ]
}