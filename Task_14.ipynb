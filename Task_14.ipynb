{
  "nbformat": 4,
  "nbformat_minor": 0,
  "metadata": {
    "colab": {
      "provenance": []
    },
    "kernelspec": {
      "name": "python3",
      "display_name": "Python 3"
    },
    "language_info": {
      "name": "python"
    }
  },
  "cells": [
    {
      "cell_type": "code",
      "execution_count": null,
      "metadata": {
        "colab": {
          "base_uri": "https://localhost:8080/"
        },
        "id": "D-GkWn316mfw",
        "outputId": "ca4f32b1-1a6c-40c1-c12b-f1af9e496ffc"
      },
      "outputs": [
        {
          "output_type": "stream",
          "name": "stdout",
          "text": [
            "Mounted at /content/drive\n"
          ]
        }
      ],
      "source": [
        "from google.colab import drive\n",
        "drive.mount('/content/drive')\n"
      ]
    },
    {
      "cell_type": "code",
      "source": [
        "import pandas as pd\n",
        "\n",
        "\n",
        "csv_path = '/content/drive/MyDrive/PSL 8/Scores/Remapped coordinates_6th april_8pm/remapped_coordsFakhar.csv'\n",
        "df_csv = pd.read_csv(csv_path)\n",
        "print(df_csv)"
      ],
      "metadata": {
        "id": "GOy8C4lr71dN",
        "colab": {
          "base_uri": "https://localhost:8080/"
        },
        "outputId": "d7fc8edf-5fea-4c7b-9446-fbd2ed33ba87"
      },
      "execution_count": null,
      "outputs": [
        {
          "output_type": "stream",
          "name": "stdout",
          "text": [
            "                                filename  remapped_x  remapped_y         w  \\\n",
            "0             LahoreVsMultan.0.1.mp4.png  156.791908  112.953020  3.901734   \n",
            "1             LahoreVsMultan.3.6.mp4.png  125.298507   65.494071  4.432836   \n",
            "2             LahoreVsMultan.5.6.mp4.png  154.868421   83.478261  4.736842   \n",
            "3             LahoreVsMultan.6.6.mp4.png  142.857143   79.473684  3.708791   \n",
            "4             LahoreVsMultan.7.6.mp4.png  149.271739   90.782609  3.815217   \n",
            "5             LahoreVsMultan.9.1.mp4.png  141.174497   83.361702  4.983221   \n",
            "6             LahoreVsMultan.9.5.mp4.png  145.857143   98.695652  4.714286   \n",
            "7            LahoreVsMultan.11.3.mp4.png  165.918675   97.983871  5.286145   \n",
            "8            LahoreVsMultan.12.3.mp4.png  153.516129  102.133891  4.064516   \n",
            "9            LahoreVsMultan.13.2.mp4.png  158.321678   92.802548  3.776224   \n",
            "10           LahoreVsMultan.13.4.mp4.png  148.000000   86.067797  4.344828   \n",
            "11           LahoreVsMultan.15.1.mp4.png  148.000000   86.067797  4.344828   \n",
            "12    LahoreVsKarachi.Lahore.0.1.mp4.png  139.832905   99.339207  4.858612   \n",
            "13    LahoreVsKarachi.Lahore.1.2.mp4.png  179.276860   68.406374  5.578512   \n",
            "14    LahoreVsKarachi.Lahore.4.2.mp4.png  141.396867   75.648855  3.877285   \n",
            "15     LahoreVsQuetta.Lahore.4.1.mp4.png  179.067055   56.268657  4.329446   \n",
            "16     LahoreVsQuetta.Lahore.4.3.mp4.png  173.593750   46.769231  5.906250   \n",
            "17   LahoreVsPeshawar.Lahore.8.2.mp4.png  126.760000  108.592593  4.680000   \n",
            "18   LahoreVsPeshawar.Lahore.9.3.mp4.png  150.277778  121.238938  4.722222   \n",
            "19  LahoreVsPeshawar.Lahore.10.3.mp4.png  121.211765   55.989305  4.447059   \n",
            "20  LahoreVsPeshawar.Lahore.10.6.mp4.png  116.728111   78.449198  3.732719   \n",
            "21  LahoreVsPeshawar.Lahore.12.1.mp4.png  167.159905   80.800000  4.188544   \n",
            "22  LahoreVsPeshawar.Lahore.13.6.mp4.png  130.777538  148.297872  4.665227   \n",
            "23  LahoreVsPeshawar.Lahore.15.1.mp4.png  148.779528   99.777778  4.606299   \n",
            "24  LahoreVsPeshawar.Lahore.17.2.mp4.png  183.795455   70.416667  3.681818   \n",
            "25  LahoreVsPeshawar.Lahore.17.3.mp4.png  185.588235   84.545455  4.764706   \n",
            "26  LahoreVsPeshawar.Lahore.17.6.mp4.png  192.808057   55.283019  4.798578   \n",
            "27  LahoreVsPeshawar.Lahore.13.5.mp4.png  147.051569  141.681416  4.843049   \n",
            "28  LahoreVsPeshawar.Lahore.17.5.mp4.png  169.681818   98.631579  6.545455   \n",
            "29  LahoreVsIslamabad.Lahore.0.4.mp4.png  162.545692   27.522936  4.934726   \n",
            "30  LahoreVsIslamabad.Lahore.2.1.mp4.png  136.445946   89.007634  4.378378   \n",
            "31  LahoreVsIslamabad.Lahore.3.4.mp4.png  173.524590   88.620690  4.426230   \n",
            "32  LahoreVsIslamabad.Lahore.5.2.mp4.png  123.670077   91.434978  4.488491   \n",
            "\n",
            "            h Scores  \n",
            "0   14.093960      1  \n",
            "1    5.533597      4  \n",
            "2    7.304348      0  \n",
            "3    5.789474      4  \n",
            "4    7.304348      6  \n",
            "5    6.553191      1  \n",
            "6    6.640316      1  \n",
            "7    7.338710      1  \n",
            "8    8.200837      1  \n",
            "9    4.904459      0  \n",
            "10   6.644068      0  \n",
            "11   6.644068      1  \n",
            "12   9.251101      1  \n",
            "13   5.577689      4  \n",
            "14   5.877863      0  \n",
            "15   5.223881      6  \n",
            "16   7.000000      1  \n",
            "17   6.740741      2  \n",
            "18  11.150442      1  \n",
            "19  10.481283      6  \n",
            "20   9.732620      1  \n",
            "21   9.100000      6  \n",
            "22  10.127660      6  \n",
            "23   8.711111      1  \n",
            "24   8.750000      4  \n",
            "25  16.363636      W  \n",
            "26  10.566038      6  \n",
            "27  10.530973      6  \n",
            "28  11.789474      1  \n",
            "29   8.348624      1  \n",
            "30   6.946565      4  \n",
            "31  11.034483      6  \n",
            "32   8.789238      W  \n"
          ]
        }
      ]
    },
    {
      "cell_type": "code",
      "source": [
        "json_path = '/content/drive/MyDrive/data.json'\n",
        "df_json = pd.read_json(json_path)\n",
        "print(df_json)\n"
      ],
      "metadata": {
        "id": "MHbIn7ea8GLC",
        "colab": {
          "base_uri": "https://localhost:8080/"
        },
        "outputId": "bf8e430c-5137-454c-ab31-66c3b04390f0"
      },
      "execution_count": null,
      "outputs": [
        {
          "output_type": "stream",
          "name": "stdout",
          "text": [
            "                                              people\n",
            "0  {'firstName': 'Wajeeha', 'lastName': 'Imtiaz',...\n",
            "1  {'firstName': 'Muhammad', 'lastName': 'Imtiaz'...\n",
            "2  {'firstName': 'Sarwat', 'lastName': 'Imtiaz', ...\n"
          ]
        }
      ]
    },
    {
      "cell_type": "code",
      "source": [
        "excel_path = '/content/drive/MyDrive/data.xlsx'\n",
        "df_excel = pd.read_excel(excel_path)"
      ],
      "metadata": {
        "id": "ozYqSIrw8IJH"
      },
      "execution_count": null,
      "outputs": []
    },
    {
      "cell_type": "code",
      "source": [
        "import sqlite3\n",
        "\n",
        "conn = sqlite3.connect('/content/drive/MyDrive/data.db')\n",
        "query = \"SELECT * FROM data\"\n",
        "df_sql = pd.read_sql(query, conn)\n"
      ],
      "metadata": {
        "id": "ZpY3O9S58MxU"
      },
      "execution_count": null,
      "outputs": []
    }
  ]
}