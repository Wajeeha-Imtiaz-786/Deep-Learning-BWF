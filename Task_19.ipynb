{
  "nbformat": 4,
  "nbformat_minor": 0,
  "metadata": {
    "colab": {
      "provenance": []
    },
    "kernelspec": {
      "name": "python3",
      "display_name": "Python 3"
    },
    "language_info": {
      "name": "python"
    }
  },
  "cells": [
    {
      "cell_type": "code",
      "execution_count": null,
      "metadata": {
        "id": "Gm4A5RoAQgWB",
        "outputId": "79dd4d7c-6296-4e85-a085-d81b6e509c4f",
        "colab": {
          "base_uri": "https://localhost:8080/"
        }
      },
      "outputs": [
        {
          "output_type": "stream",
          "name": "stdout",
          "text": [
            "a: [1 2 3]\n",
            "b: [4 5 6]\n",
            "c: [5 7 9]\n",
            "d: [ 4 10 18]\n",
            "e: 6\n",
            "f: 5\n"
          ]
        }
      ],
      "source": [
        "import tensorflow as tf\n",
        "\n",
        "# Create tensors\n",
        "a = tf.constant([1, 2, 3])\n",
        "b = tf.constant([4, 5, 6])\n",
        "\n",
        "# Perform basic tensor operations\n",
        "c = tf.add(a, b)  # Element-wise addition\n",
        "d = tf.multiply(a, b)  # Element-wise multiplication\n",
        "e = tf.reduce_sum(a)  # Sum of all elements\n",
        "f = tf.reduce_mean(b)  # Mean of all elements\n",
        "\n",
        "# Print the results\n",
        "print(\"a:\", a.numpy())\n",
        "print(\"b:\", b.numpy())\n",
        "print(\"c:\", c.numpy())\n",
        "print(\"d:\", d.numpy())\n",
        "print(\"e:\", e.numpy())\n",
        "print(\"f:\", f.numpy())\n"
      ]
    },
    {
      "cell_type": "code",
      "source": [],
      "metadata": {
        "id": "qUgjG7RaQjmx"
      },
      "execution_count": null,
      "outputs": []
    }
  ]
}