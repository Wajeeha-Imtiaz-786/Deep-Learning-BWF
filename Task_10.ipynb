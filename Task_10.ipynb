{
  "nbformat": 4,
  "nbformat_minor": 0,
  "metadata": {
    "colab": {
      "provenance": []
    },
    "kernelspec": {
      "name": "python3",
      "display_name": "Python 3"
    },
    "language_info": {
      "name": "python"
    }
  },
  "cells": [
    {
      "cell_type": "markdown",
      "source": [
        "1D Array"
      ],
      "metadata": {
        "id": "3ZCGOUjA_4u9"
      }
    },
    {
      "cell_type": "code",
      "execution_count": 14,
      "metadata": {
        "colab": {
          "base_uri": "https://localhost:8080/"
        },
        "id": "M3FWbN2O_zbm",
        "outputId": "cb47d732-961f-43fc-f13b-c69ad93bac62"
      },
      "outputs": [
        {
          "output_type": "stream",
          "name": "stdout",
          "text": [
            "['11' '22' '33' '44' '55' 'Wajeeha Imtiaz']\n"
          ]
        }
      ],
      "source": [
        "import numpy as np\n",
        "\n",
        "# Creating a single dimensional array\n",
        "arr1 = np.array([11, 22, 33, 44, 55,\"Wajeeha Imtiaz\"])\n",
        "print(arr1)\n"
      ]
    },
    {
      "cell_type": "markdown",
      "source": [
        "2D Arrays"
      ],
      "metadata": {
        "id": "-EGEpb_F_95t"
      }
    },
    {
      "cell_type": "code",
      "source": [
        "# Creating a 2-dimensional array\n",
        "array1 = np.array([[1, 2, 3], [4, 5, 6]])\n",
        "print(array1, \"\\n\")\n",
        "\n",
        "array2 = np.array([[\"Jiya\", \"Fatima\", \"Saima\"], [\"Sarwat\", \"Imtiaz\", \"Hassan\"]])\n",
        "print(array2)"
      ],
      "metadata": {
        "colab": {
          "base_uri": "https://localhost:8080/"
        },
        "id": "137B_CwBABgY",
        "outputId": "ab3ff352-0e2f-4e34-ec92-76c9ec924331"
      },
      "execution_count": 8,
      "outputs": [
        {
          "output_type": "stream",
          "name": "stdout",
          "text": [
            "[[1 2 3]\n",
            " [4 5 6]] \n",
            "\n",
            "[['Jiya' 'Fatima' 'Saima']\n",
            " ['Sarwat' 'Imtiaz' 'Hassan']]\n"
          ]
        }
      ]
    },
    {
      "cell_type": "markdown",
      "source": [
        "Arithmetic Operations On Multi dmentional Arrays"
      ],
      "metadata": {
        "id": "yxbByoAkAOrE"
      }
    },
    {
      "cell_type": "code",
      "source": [
        "# Adding two 2-dimensional arrays\n",
        "arr3 = np.array([[187908, 265447, 557683], [4098897, 234565, 9786]])\n",
        "arr4 = np.array([[776978, 8675, 9098], [1000, 1001, 1200]])\n",
        "\n",
        "arr5 = arr3 + arr4\n",
        "print(arr5)\n"
      ],
      "metadata": {
        "colab": {
          "base_uri": "https://localhost:8080/"
        },
        "id": "RtTsw05lABmA",
        "outputId": "9bde8d4a-9a66-468e-90d6-63c6dc5886a5"
      },
      "execution_count": 9,
      "outputs": [
        {
          "output_type": "stream",
          "name": "stdout",
          "text": [
            "[[ 964886  274122  566781]\n",
            " [4099897  235566   10986]]\n"
          ]
        }
      ]
    },
    {
      "cell_type": "code",
      "source": [],
      "metadata": {
        "id": "MtEqXGxFAKWW"
      },
      "execution_count": null,
      "outputs": []
    }
  ]
}