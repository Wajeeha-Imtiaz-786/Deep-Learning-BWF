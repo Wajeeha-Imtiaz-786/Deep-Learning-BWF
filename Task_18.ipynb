{
  "nbformat": 4,
  "nbformat_minor": 0,
  "metadata": {
    "colab": {
      "provenance": []
    },
    "kernelspec": {
      "name": "python3",
      "display_name": "Python 3"
    },
    "language_info": {
      "name": "python"
    }
  },
  "cells": [
    {
      "cell_type": "markdown",
      "source": [
        "NAIVE BAYES CLASSIFIER\n"
      ],
      "metadata": {
        "id": "xBmj8GzpRDwt"
      }
    },
    {
      "cell_type": "code",
      "execution_count": 1,
      "metadata": {
        "colab": {
          "base_uri": "https://localhost:8080/"
        },
        "id": "Fm0e_p5IQysg",
        "outputId": "d7025fe9-4409-441b-b78e-d6fed8c997e6"
      },
      "outputs": [
        {
          "output_type": "stream",
          "name": "stdout",
          "text": [
            "Naive Bayes Accuracy: 1.0\n"
          ]
        }
      ],
      "source": [
        "from sklearn.datasets import load_iris\n",
        "from sklearn.model_selection import train_test_split\n",
        "from sklearn.naive_bayes import GaussianNB\n",
        "from sklearn.metrics import accuracy_score\n",
        "\n",
        "# Load the Iris dataset\n",
        "iris = load_iris()\n",
        "X = iris.data\n",
        "y = iris.target\n",
        "\n",
        "# Split the dataset into training and testing sets\n",
        "X_train, X_test, y_train, y_test = train_test_split(X, y, test_size=0.2, random_state=42)\n",
        "\n",
        "# Initialize the Naive Bayes classifier\n",
        "clf_nb = GaussianNB()\n",
        "\n",
        "# Train the classifier\n",
        "clf_nb.fit(X_train, y_train)\n",
        "\n",
        "# Predict the labels for test set\n",
        "y_pred_nb = clf_nb.predict(X_test)\n",
        "\n",
        "# Calculate accuracy\n",
        "accuracy_nb = accuracy_score(y_test, y_pred_nb)\n",
        "\n",
        "print(\"Naive Bayes Accuracy:\", accuracy_nb)\n"
      ]
    },
    {
      "cell_type": "markdown",
      "source": [
        "DECISION TREES CLASSIFIER"
      ],
      "metadata": {
        "id": "KCizsp0KRIuV"
      }
    },
    {
      "cell_type": "code",
      "source": [
        "from sklearn.datasets import load_iris\n",
        "from sklearn.model_selection import train_test_split\n",
        "from sklearn.tree import DecisionTreeClassifier\n",
        "from sklearn.metrics import accuracy_score\n",
        "\n",
        "# Load the Iris dataset\n",
        "iris = load_iris()\n",
        "X = iris.data\n",
        "y = iris.target\n",
        "\n",
        "# Split the dataset into training and testing sets\n",
        "X_train, X_test, y_train, y_test = train_test_split(X, y, test_size=0.2, random_state=42)\n",
        "\n",
        "# Initialize the Decision Tree classifier\n",
        "clf_dt = DecisionTreeClassifier()\n",
        "\n",
        "# Train the classifier\n",
        "clf_dt.fit(X_train, y_train)\n",
        "\n",
        "# Predict the labels for test set\n",
        "y_pred_dt = clf_dt.predict(X_test)\n",
        "\n",
        "# Calculate accuracy\n",
        "accuracy_dt = accuracy_score(y_test, y_pred_dt)\n",
        "\n",
        "print(\"Decision Tree Accuracy:\", accuracy_dt)\n"
      ],
      "metadata": {
        "colab": {
          "base_uri": "https://localhost:8080/"
        },
        "id": "AR3CKH1KRLc9",
        "outputId": "a27484d3-ed48-41a8-eb6b-d2e45303ba54"
      },
      "execution_count": 2,
      "outputs": [
        {
          "output_type": "stream",
          "name": "stdout",
          "text": [
            "Decision Tree Accuracy: 1.0\n"
          ]
        }
      ]
    }
  ]
}