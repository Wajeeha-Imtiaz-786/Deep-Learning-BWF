{
  "nbformat": 4,
  "nbformat_minor": 0,
  "metadata": {
    "colab": {
      "provenance": []
    },
    "kernelspec": {
      "name": "python3",
      "display_name": "Python 3"
    },
    "language_info": {
      "name": "python"
    }
  },
  "cells": [
    {
      "cell_type": "markdown",
      "source": [
        "Series in Panda"
      ],
      "metadata": {
        "id": "-YGxHrKh5eUm"
      }
    },
    {
      "cell_type": "code",
      "source": [
        "import pandas as pd\n",
        "import numpy as np\n",
        "\n",
        "# Create a Series\n",
        "s = pd.Series([1, 3, 5, np.nan, 6, 8])\n",
        "\n",
        "print(s)"
      ],
      "metadata": {
        "colab": {
          "base_uri": "https://localhost:8080/"
        },
        "id": "IeZTJ4iG5krd",
        "outputId": "806417fc-b934-4539-ef8c-ac224cce749b"
      },
      "execution_count": null,
      "outputs": [
        {
          "output_type": "stream",
          "name": "stdout",
          "text": [
            "0    1.0\n",
            "1    3.0\n",
            "2    5.0\n",
            "3    NaN\n",
            "4    6.0\n",
            "5    8.0\n",
            "dtype: float64\n"
          ]
        }
      ]
    },
    {
      "cell_type": "markdown",
      "source": [
        "Dataframe in Pandas"
      ],
      "metadata": {
        "id": "YdSPTv4v5uIM"
      }
    },
    {
      "cell_type": "code",
      "source": [
        "import pandas as pd\n",
        "\n",
        "# Create a DataFrame\n",
        "data = {'name': ['Wajeeha', 'Imtiaz', 'Sarwat', 'Biya'],\n",
        "        'age': [21, 53, 48, 24],\n",
        "        'gender': ['F', 'M', 'F', 'F']}\n",
        "\n",
        "df = pd.DataFrame(data)\n",
        "\n",
        "print(df)\n"
      ],
      "metadata": {
        "colab": {
          "base_uri": "https://localhost:8080/"
        },
        "id": "bZbRWa3H5lag",
        "outputId": "0628f8d2-5e58-41de-ccd5-434e8804a6e8"
      },
      "execution_count": null,
      "outputs": [
        {
          "output_type": "stream",
          "name": "stdout",
          "text": [
            "      name  age gender\n",
            "0  Wajeeha   21      F\n",
            "1   Imtiaz   53      M\n",
            "2   Sarwat   48      F\n",
            "3     Biya   24      F\n"
          ]
        }
      ]
    },
    {
      "cell_type": "code",
      "source": [],
      "metadata": {
        "id": "qFTxZJZj6Cbs"
      },
      "execution_count": null,
      "outputs": []
    }
  ]
}