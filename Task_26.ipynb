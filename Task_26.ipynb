{
  "nbformat": 4,
  "nbformat_minor": 0,
  "metadata": {
    "colab": {
      "provenance": []
    },
    "kernelspec": {
      "name": "python3",
      "display_name": "Python 3"
    },
    "language_info": {
      "name": "python"
    }
  },
  "cells": [
    {
      "cell_type": "code",
      "execution_count": 2,
      "metadata": {
        "id": "cxGNEqsIFk97"
      },
      "outputs": [],
      "source": [
        "import tensorflow as tf\n",
        "from tensorflow.keras.models import Sequential\n",
        "from tensorflow.keras.layers import Dense\n",
        "\n",
        "# Define the number of classes\n",
        "num_classes = 10\n",
        "input_size = 100\n",
        "\n",
        "# Replace output_size with the number of output classes\n",
        "output_size = 10\n",
        "# Create a sequential model\n",
        "model = Sequential()\n",
        "\n",
        "# Add layers to the model\n",
        "model.add(Dense(64, activation='relu', input_shape=(input_size,)))\n",
        "model.add(Dense(32, activation='relu'))\n",
        "model.add(Dense(num_classes, activation='softmax'))\n",
        "\n",
        "# Compile the model with different configurations\n",
        "\n",
        "# Example 1: Optimizer: Adam, Last-layer activation: Softmax, Loss function: Sparse categorical cross-entropy, Metrics: Accuracy\n",
        "model.compile(optimizer='adam', loss='sparse_categorical_crossentropy', metrics=['accuracy'])\n",
        "\n",
        "# Example 2: Optimizer: RMSprop, Last-layer activation: Softmax, Loss function: Categorical cross-entropy, Metrics: Accuracy\n",
        "#model.compile(optimizer='rmsprop', loss='categorical_crossentropy', metrics=['accuracy'])\n",
        "\n",
        "# Example 3: Optimizer: SGD, Last-layer activation: Sigmoid, Loss function: Binary cross-entropy, Metrics: Binary accuracy\n",
        "model.compile(optimizer='sgd', loss='binary_crossentropy', metrics=['binary_accuracy'])\n"
      ]
    },
    {
      "cell_type": "code",
      "source": [],
      "metadata": {
        "id": "vGn_l-pnFrml"
      },
      "execution_count": null,
      "outputs": []
    }
  ]
}