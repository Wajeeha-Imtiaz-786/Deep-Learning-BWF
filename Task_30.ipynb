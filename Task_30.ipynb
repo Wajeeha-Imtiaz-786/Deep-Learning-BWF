{
  "nbformat": 4,
  "nbformat_minor": 0,
  "metadata": {
    "colab": {
      "provenance": []
    },
    "kernelspec": {
      "name": "python3",
      "display_name": "Python 3"
    },
    "language_info": {
      "name": "python"
    }
  },
  "cells": [
    {
      "cell_type": "markdown",
      "source": [
        "WAJEEHA IMTIAZ\n"
      ],
      "metadata": {
        "id": "saJxSh_03IjJ"
      }
    },
    {
      "cell_type": "code",
      "execution_count": 2,
      "metadata": {
        "colab": {
          "base_uri": "https://localhost:8080/"
        },
        "id": "AetQDGYZ2r4v",
        "outputId": "e3e7c6ba-3eda-42c4-ef85-27306e8ba2c8"
      },
      "outputs": [
        {
          "output_type": "stream",
          "name": "stdout",
          "text": [
            "Epoch 1/10\n",
            "3/3 [==============================] - 2s 9ms/step - loss: 54.9181\n",
            "Epoch 2/10\n",
            "3/3 [==============================] - 0s 7ms/step - loss: 54.5888\n",
            "Epoch 3/10\n",
            "3/3 [==============================] - 0s 9ms/step - loss: 54.2298\n",
            "Epoch 4/10\n",
            "3/3 [==============================] - 0s 7ms/step - loss: 53.9231\n",
            "Epoch 5/10\n",
            "3/3 [==============================] - 0s 10ms/step - loss: 53.4395\n",
            "Epoch 6/10\n",
            "3/3 [==============================] - 0s 8ms/step - loss: 52.9674\n",
            "Epoch 7/10\n",
            "3/3 [==============================] - 0s 7ms/step - loss: 52.4863\n",
            "Epoch 8/10\n",
            "3/3 [==============================] - 0s 8ms/step - loss: 51.7116\n",
            "Epoch 9/10\n",
            "3/3 [==============================] - 0s 7ms/step - loss: 51.0095\n",
            "Epoch 10/10\n",
            "3/3 [==============================] - 0s 7ms/step - loss: 50.0558\n",
            "1/1 [==============================] - 0s 412ms/step\n",
            "[[0.26970562]]\n"
          ]
        }
      ],
      "source": [
        "import numpy as np\n",
        "from tensorflow.keras.models import Sequential\n",
        "from tensorflow.keras.layers import Embedding, LSTM, Dense\n",
        "\n",
        "# Example data\n",
        "X_train = np.array([[1, 2, 3], [4, 5, 6], [7, 8, 9]])\n",
        "y_train = np.array([4, 7, 10])\n",
        "\n",
        "# Define the model\n",
        "model = Sequential()\n",
        "model.add(Embedding(input_dim=13, output_dim=32))  # Example embedding layer\n",
        "model.add(LSTM(64))  # LSTM layer with 64 units\n",
        "model.add(Dense(1, activation='linear'))\n",
        "\n",
        "# Compile the model\n",
        "model.compile(optimizer='adam', loss='mean_squared_error')\n",
        "\n",
        "# Train the model\n",
        "model.fit(X_train, y_train, epochs=10, batch_size=1)\n",
        "\n",
        "# Example prediction\n",
        "X_test = np.array([[10, 11, 12]])\n",
        "y_pred = model.predict(X_test)\n",
        "print(y_pred)\n"
      ]
    },
    {
      "cell_type": "code",
      "source": [],
      "metadata": {
        "id": "KWKVqrqf2uvz"
      },
      "execution_count": null,
      "outputs": []
    }
  ]
}