{
  "nbformat": 4,
  "nbformat_minor": 0,
  "metadata": {
    "colab": {
      "provenance": []
    },
    "kernelspec": {
      "name": "python3",
      "display_name": "Python 3"
    },
    "language_info": {
      "name": "python"
    }
  },
  "cells": [
    {
      "cell_type": "code",
      "source": [
        "from keras.models import Sequential\n",
        "from keras.layers import Conv2D, MaxPooling2D, Flatten, LSTM, Dense\n",
        "\n",
        "# Define the dimensions of the input images\n",
        "image_width = 128\n",
        "image_height = 128\n",
        "num_channels = 3\n",
        "\n",
        "# Define the dimensions of the sequential input data\n",
        "sequence_length = 10\n",
        "feature_dim = 32\n",
        "\n",
        "# Define the number of classes in the classification problem\n",
        "num_classes = 10"
      ],
      "metadata": {
        "id": "7dfYRdMviKaX"
      },
      "execution_count": 2,
      "outputs": []
    },
    {
      "cell_type": "code",
      "source": [
        "from keras.models import Sequential\n",
        "from keras.layers import Conv2D, MaxPooling2D, Flatten, LSTM, Dense, TimeDistributed\n",
        "\n",
        "# Define the CNN model\n",
        "cnn_model = Sequential()\n",
        "cnn_model.add(Conv2D(32, (3, 3), activation='relu', input_shape=(image_width, image_height, num_channels)))\n",
        "cnn_model.add(MaxPooling2D(pool_size=(2, 2)))\n",
        "cnn_model.add(Conv2D(64, (3, 3), activation='relu'))\n",
        "cnn_model.add(MaxPooling2D(pool_size=(2, 2)))\n",
        "cnn_model.add(Flatten())\n",
        "\n",
        "# Obtain the output shape of the CNN model\n",
        "cnn_output_shape = cnn_model.output_shape[-1]\n",
        "\n",
        "# Define the LSTM model\n",
        "lstm_model = Sequential()\n",
        "lstm_model.add(TimeDistributed(Dense(cnn_output_shape), input_shape=(None, cnn_output_shape)))\n",
        "lstm_model.add(LSTM(256))\n",
        "\n",
        "# Combine the CNN and LSTM models\n",
        "hybrid_model = Sequential()\n",
        "hybrid_model.add(cnn_model)\n",
        "hybrid_model.add(Dense(256, activation='relu'))\n",
        "hybrid_model.add(TimeDistributed(Dense(cnn_output_shape)))  # Apply reshaping to each time step\n",
        "hybrid_model.add(lstm_model)\n",
        "hybrid_model.add(Dense(num_classes, activation='softmax'))\n",
        "\n",
        "# Compile the model\n",
        "hybrid_model.compile(optimizer='adam', loss='categorical_crossentropy', metrics=['accuracy'])\n",
        "\n",
        "# Print the summary of the model\n",
        "hybrid_model.summary()\n"
      ],
      "metadata": {
        "id": "f96-TrTEi3O4"
      },
      "execution_count": null,
      "outputs": []
    }
  ]
}