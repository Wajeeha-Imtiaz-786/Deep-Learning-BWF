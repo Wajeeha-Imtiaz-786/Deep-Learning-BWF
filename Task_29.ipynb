{
  "nbformat": 4,
  "nbformat_minor": 0,
  "metadata": {
    "colab": {
      "provenance": []
    },
    "kernelspec": {
      "name": "python3",
      "display_name": "Python 3"
    },
    "language_info": {
      "name": "python"
    }
  },
  "cells": [
    {
      "cell_type": "code",
      "execution_count": 3,
      "metadata": {
        "id": "relA4iHv3wRK"
      },
      "outputs": [],
      "source": [
        "import tensorflow as tf\n",
        "from tensorflow.keras.applications import VGG16\n",
        "from tensorflow.keras.models import Model\n",
        "from tensorflow.keras.layers import Flatten, Dense\n",
        "\n",
        "# Number of classes in your dataset\n",
        "num_classes = 10\n",
        "\n",
        "# Load pre-trained VGG16 model\n",
        "base_model = VGG16(weights='imagenet', include_top=False, input_shape=(224, 224, 3))\n",
        "\n",
        "# Freeze the weights of the pre-trained layers\n",
        "for layer in base_model.layers:\n",
        "    layer.trainable = False\n",
        "\n",
        "# Add new classification layers on top\n",
        "flatten = Flatten()(base_model.output)\n",
        "dense1 = Dense(256, activation='relu')(flatten)\n",
        "output = Dense(num_classes, activation='softmax')(dense1)\n",
        "\n",
        "# Create the new model\n",
        "model = Model(inputs=base_model.input, outputs=output)\n",
        "\n",
        "# Compile the model\n",
        "model.compile(optimizer='adam', loss='categorical_crossentropy', metrics=['accuracy'])\n",
        "\n",
        "# Train the model\n",
        "model.fit(train_images, train_labels, epochs=10, batch_size=32)\n",
        "\n",
        "# Perform evaluation on test data\n",
        "test_loss, test_acc = model.evaluate(test_images, test_labels)\n",
        "#print(f'Test loss: {test_loss}, Test accuracy: {test_acc}')\n"
      ]
    },
    {
      "cell_type": "code",
      "source": [],
      "metadata": {
        "id": "tppWPe-V3x1I"
      },
      "execution_count": null,
      "outputs": []
    }
  ]
}