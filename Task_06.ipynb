{
  "nbformat": 4,
  "nbformat_minor": 0,
  "metadata": {
    "colab": {
      "provenance": []
    },
    "kernelspec": {
      "name": "python3",
      "display_name": "Python 3"
    },
    "language_info": {
      "name": "python"
    }
  },
  "cells": [
    {
      "cell_type": "markdown",
      "source": [
        "6.1"
      ],
      "metadata": {
        "id": "Lmpux5xMYCf6"
      }
    },
    {
      "cell_type": "code",
      "execution_count": 1,
      "metadata": {
        "colab": {
          "base_uri": "https://localhost:8080/"
        },
        "id": "ghKAPhyhXyIR",
        "outputId": "a64e1b6f-4894-417e-ad72-77d9789b9e36"
      },
      "outputs": [
        {
          "output_type": "stream",
          "name": "stdout",
          "text": [
            "First name:  Wajeeha\n",
            "Last name:  Imtiaz\n",
            "Age:  21\n",
            "City:  Islamabad\n"
          ]
        }
      ],
      "source": [
        "myself = {\n",
        "    'first_name': 'Wajeeha',\n",
        "    'last_name': 'Imtiaz',\n",
        "    'age': 21,\n",
        "    'city': 'Islamabad'\n",
        "}\n",
        "\n",
        "# printing each piece of information\n",
        "print(\"First name: \", myself['first_name'])\n",
        "print(\"Last name: \", myself['last_name'])\n",
        "print(\"Age: \", myself['age'])\n",
        "print(\"City: \", myself['city'])\n"
      ]
    },
    {
      "cell_type": "markdown",
      "source": [
        "6.2"
      ],
      "metadata": {
        "id": "iNKcj1e1YM41"
      }
    },
    {
      "cell_type": "code",
      "source": [
        "myFavorites = {\n",
        "    'Wajeeha': 7,\n",
        "    'Imtiaz': 42,\n",
        "    'Sarwat': 13,\n",
        "    'Biya': 3,\n",
        "    'Hassan': 27\n",
        "}\n",
        "\n",
        "# poll a few friends and update the dictionary\n",
        "myFavorites['Saima'] = 11\n",
        "myFavorites['Sara'] = 8\n",
        "\n",
        "# printing each person's name and their favorite number\n",
        "for name, favorite in myFavorites.items():\n",
        "    print(name + \"'s favorite number is \" + str(favorite))\n"
      ],
      "metadata": {
        "colab": {
          "base_uri": "https://localhost:8080/"
        },
        "id": "tDeKwjl2YRpv",
        "outputId": "4fb984c3-f8b9-4a6a-91d0-c9bbf7960c20"
      },
      "execution_count": 4,
      "outputs": [
        {
          "output_type": "stream",
          "name": "stdout",
          "text": [
            "Wajeeha's favorite number is 7\n",
            "Imtiaz's favorite number is 42\n",
            "Sarwat's favorite number is 13\n",
            "Biya's favorite number is 3\n",
            "Hassan's favorite number is 27\n",
            "Saima's favorite number is 11\n",
            "Sara's favorite number is 8\n"
          ]
        }
      ]
    },
    {
      "cell_type": "markdown",
      "source": [
        "6.3"
      ],
      "metadata": {
        "id": "o0BPe8k5YpHP"
      }
    },
    {
      "cell_type": "code",
      "source": [
        "myNewGlossary = {\n",
        "    'variable': 'A named storage location in memory that can hold a value.',\n",
        "    'function': 'A block of reusable code that performs a specific task.',\n",
        "    'loop': 'A programming structure that repeats a set of instructions until a specified condition is met.',\n",
        "    'list': 'A collection of items that can be of different types, ordered and changeable.',\n",
        "    'module': 'A file containing Python code that can be imported and used in other Python programs.'\n",
        "}\n",
        "\n",
        "# printing each word and its meaning\n",
        "for word, meaning in myNewGlossary.items():\n",
        "    print(word.capitalize() + \":\")\n",
        "    print(meaning)\n",
        "    print()\n"
      ],
      "metadata": {
        "colab": {
          "base_uri": "https://localhost:8080/"
        },
        "id": "Wu6g4IlFZJcV",
        "outputId": "11ae8a49-d330-4722-9c8a-c64230ab7294"
      },
      "execution_count": 5,
      "outputs": [
        {
          "output_type": "stream",
          "name": "stdout",
          "text": [
            "Variable:\n",
            "A named storage location in memory that can hold a value.\n",
            "\n",
            "Function:\n",
            "A block of reusable code that performs a specific task.\n",
            "\n",
            "Loop:\n",
            "A programming structure that repeats a set of instructions until a specified condition is met.\n",
            "\n",
            "List:\n",
            "A collection of items that can be of different types, ordered and changeable.\n",
            "\n",
            "Module:\n",
            "A file containing Python code that can be imported and used in other Python programs.\n",
            "\n"
          ]
        }
      ]
    },
    {
      "cell_type": "markdown",
      "source": [
        "6.4"
      ],
      "metadata": {
        "id": "rY0z9VdeZV8m"
      }
    },
    {
      "cell_type": "code",
      "source": [
        "# define the initial glossary with five terms\n",
        "glossary = {\n",
        "    'variable': 'a named storage location in memory that can hold a value',\n",
        "    'function': 'a named sequence of statements that performs a specific task',\n",
        "    'loop': 'a programming construct that repeats a set of instructions',\n",
        "    'conditional': 'a statement that performs different actions depending on whether a condition is true or false',\n",
        "    'list': 'a collection of items in a particular order'\n",
        "}\n",
        "\n",
        "# add five more terms to the glossary\n",
        "glossary['tuple'] = 'an immutable sequence of values'\n",
        "glossary['dictionary'] = 'a collection of key-value pairs'\n",
        "glossary['set'] = 'an unordered collection of unique elements'\n",
        "glossary['module'] = 'a file containing Python code that can be imported and used in other programs'\n",
        "glossary['package'] = 'a collection of related Python modules'\n",
        "\n",
        "# loop through the glossary and print each term and definition\n",
        "for term, definition in glossary.items():\n",
        "    print(term.title() + \": \" + definition)\n",
        "    print()\n"
      ],
      "metadata": {
        "colab": {
          "base_uri": "https://localhost:8080/"
        },
        "id": "N0vcIiVTZkrp",
        "outputId": "18c3dd3e-7616-49b7-980e-d2203b6c33a3"
      },
      "execution_count": 6,
      "outputs": [
        {
          "output_type": "stream",
          "name": "stdout",
          "text": [
            "Variable: a named storage location in memory that can hold a value\n",
            "\n",
            "Function: a named sequence of statements that performs a specific task\n",
            "\n",
            "Loop: a programming construct that repeats a set of instructions\n",
            "\n",
            "Conditional: a statement that performs different actions depending on whether a condition is true or false\n",
            "\n",
            "List: a collection of items in a particular order\n",
            "\n",
            "Tuple: an immutable sequence of values\n",
            "\n",
            "Dictionary: a collection of key-value pairs\n",
            "\n",
            "Set: an unordered collection of unique elements\n",
            "\n",
            "Module: a file containing Python code that can be imported and used in other programs\n",
            "\n",
            "Package: a collection of related Python modules\n",
            "\n"
          ]
        }
      ]
    },
    {
      "cell_type": "markdown",
      "source": [
        "6.5"
      ],
      "metadata": {
        "id": "NCsA4WVNZtox"
      }
    },
    {
      "cell_type": "code",
      "source": [
        "rivers = {\n",
        "    'nile': 'egypt',\n",
        "    'Ravi': 'Pakistan',\n",
        "    'Cheenab': 'Pakistan'\n",
        "}\n",
        "\n",
        "# Print a sentence about each river\n",
        "for river, country in rivers.items():\n",
        "    print(f\"The {river.title()} runs through {country.title()}.\")\n",
        "\n",
        "# Print the name of each river\n",
        "print(\"\\nRivers:\")\n",
        "for river in rivers.keys():\n",
        "    print(river.title())\n",
        "\n",
        "# Print the name of each country\n",
        "print(\"\\nCountries:\")\n",
        "for country in set(rivers.values()):\n",
        "    print(country.title())\n"
      ],
      "metadata": {
        "colab": {
          "base_uri": "https://localhost:8080/"
        },
        "id": "u6wpWqgoZwXG",
        "outputId": "610ade97-8ce1-4dbf-b651-994fd7f78ff1"
      },
      "execution_count": 7,
      "outputs": [
        {
          "output_type": "stream",
          "name": "stdout",
          "text": [
            "The Nile runs through Egypt.\n",
            "The Ravi runs through Pakistan.\n",
            "The Cheenab runs through Pakistan.\n",
            "\n",
            "Rivers:\n",
            "Nile\n",
            "Ravi\n",
            "Cheenab\n",
            "\n",
            "Countries:\n",
            "Egypt\n",
            "Pakistan\n"
          ]
        }
      ]
    },
    {
      "cell_type": "markdown",
      "source": [
        "6.6"
      ],
      "metadata": {
        "id": "dOuH9OI3bDks"
      }
    },
    {
      "cell_type": "code",
      "source": [
        "favorite_languages = {\n",
        "    'jerry': 'python',\n",
        "    'sarah': 'c',\n",
        "    'Tom': 'ruby',\n",
        "    'Wajeeha': 'python',\n",
        "}\n",
        "\n",
        "poll_takers = ['jerry', 'sarah', 'Hassan', 'Sarwat', 'Tom']\n",
        "\n",
        "for name in poll_takers:\n",
        "    if name in favorite_languages:\n",
        "        print(f\"Thank you so much!!, {name.title()}, for taking the poll!\")\n",
        "    else:\n",
        "        print(f\"{name.title()}, what is your favorite programming language?\")\n"
      ],
      "metadata": {
        "colab": {
          "base_uri": "https://localhost:8080/"
        },
        "id": "bdsHjkJCaM5D",
        "outputId": "078b7cbe-7bb5-4ab8-ccac-fb6dc93e0a81"
      },
      "execution_count": 9,
      "outputs": [
        {
          "output_type": "stream",
          "name": "stdout",
          "text": [
            "Thank you so much!!, Jerry, for taking the poll!\n",
            "Thank you so much!!, Sarah, for taking the poll!\n",
            "Hassan, what is your favorite programming language?\n",
            "Sarwat, what is your favorite programming language?\n",
            "Thank you so much!!, Tom, for taking the poll!\n"
          ]
        }
      ]
    },
    {
      "cell_type": "markdown",
      "source": [
        "6.7"
      ],
      "metadata": {
        "id": "0OLGwfxwbFDN"
      }
    },
    {
      "cell_type": "code",
      "source": [
        "\n",
        "person1 = {\n",
        "    'first_name': 'Jiya',\n",
        "    'last_name': 'Khan',\n",
        "    'age': 30,\n",
        "    'city': '=Islamabad'\n",
        "}\n",
        "\n",
        "person2 = {\n",
        "    'first_name': 'Biya',\n",
        "    'last_name': 'Khan',\n",
        "    'age': 25,\n",
        "    'city': 'lahore'\n",
        "}\n",
        "\n",
        "person3 = {\n",
        "    'first_name': 'Hassan',\n",
        "    'last_name': 'Imtiaz',\n",
        "    'age': 40,\n",
        "    'city': 'Islamabad'\n",
        "}\n",
        "\n",
        "people = [person1, person2, person3]\n",
        "\n",
        "for person in people:\n",
        "    print(f\"First Name: {person['first_name']}\")\n",
        "    print(f\"Last Name: {person['last_name']}\")\n",
        "    print(f\"Age: {person['age']}\")\n",
        "    print(f\"City: {person['city']}\\n\")\n"
      ],
      "metadata": {
        "colab": {
          "base_uri": "https://localhost:8080/"
        },
        "id": "_hTSvKYMbF3t",
        "outputId": "1bae5534-cd84-4891-b83a-68739090c34e"
      },
      "execution_count": 10,
      "outputs": [
        {
          "output_type": "stream",
          "name": "stdout",
          "text": [
            "First Name: Jiya\n",
            "Last Name: Khan\n",
            "Age: 30\n",
            "City: =Islamabad\n",
            "\n",
            "First Name: Biya\n",
            "Last Name: Khan\n",
            "Age: 25\n",
            "City: lahore\n",
            "\n",
            "First Name: Hassan\n",
            "Last Name: Imtiaz\n",
            "Age: 40\n",
            "City: Islamabad\n",
            "\n"
          ]
        }
      ]
    },
    {
      "cell_type": "markdown",
      "source": [
        "6.8"
      ],
      "metadata": {
        "id": "oG5eln8abZjz"
      }
    },
    {
      "cell_type": "code",
      "source": [
        "\n",
        "pet1 = {\n",
        "    'name': 'Max',\n",
        "    'kind': 'dog',\n",
        "    'owner': 'John'\n",
        "}\n",
        "\n",
        "pet2 = {\n",
        "    'name': 'Fluffy',\n",
        "    'kind': 'cat',\n",
        "    'owner': 'Jane'\n",
        "}\n",
        "\n",
        "pet3 = {\n",
        "    'name': 'Spike',\n",
        "    'kind': 'bird',\n",
        "    'owner': 'Bob'\n",
        "}\n",
        "\n",
        "pets = [pet1, pet2, pet3]\n",
        "\n",
        "for pet in pets:\n",
        "    print(f\"Name: {pet['name']}\")\n",
        "    print(f\"Kind: {pet['kind']}\")\n",
        "    print(f\"Owner: {pet['owner']}\\n\")\n"
      ],
      "metadata": {
        "id": "WhuNaxUCbW0l"
      },
      "execution_count": null,
      "outputs": []
    },
    {
      "cell_type": "markdown",
      "source": [
        "6.9"
      ],
      "metadata": {
        "id": "m88ZMYK8bcBG"
      }
    },
    {
      "cell_type": "code",
      "source": [
        "\n",
        "favorite_places = {\n",
        "    'Wajeeha': ['Central Park', 'Faisal Mosque','Monument'],\n",
        "    'Sarwat': ['Minar e Pakistan', ' Beach','Rawal Lake'],\n",
        "    'Imtiaz': ['Navy ', 'Millennium Park', 'Dubai']\n",
        "}\n",
        "\n",
        "for name, places in favorite_places.items():\n",
        "    print(f\"{name.title()}'s favorite places are:\")\n",
        "    for place in places:\n",
        "        print(f\"\\t{place}\")\n",
        "    print()\n"
      ],
      "metadata": {
        "colab": {
          "base_uri": "https://localhost:8080/"
        },
        "id": "BgNotT1Dbdg6",
        "outputId": "24eacc32-c44e-41aa-b2a8-f0c4df273a20"
      },
      "execution_count": 12,
      "outputs": [
        {
          "output_type": "stream",
          "name": "stdout",
          "text": [
            "Wajeeha's favorite places are:\n",
            "\tCentral Park\n",
            "\tFaisal Mosque\n",
            "\tMonument\n",
            "\n",
            "Sarwat's favorite places are:\n",
            "\tMinar e Pakistan\n",
            "\t Beach\n",
            "\tRawal Lake\n",
            "\n",
            "Imtiaz's favorite places are:\n",
            "\tNavy \n",
            "\tMillennium Park\n",
            "\tDubai\n",
            "\n"
          ]
        }
      ]
    },
    {
      "cell_type": "markdown",
      "source": [
        "6.10"
      ],
      "metadata": {
        "id": "flDcT0lVcI-V"
      }
    },
    {
      "cell_type": "code",
      "source": [
        "\n",
        "favorite_numbers = {\n",
        "    'Jiya': [7, 13, 22],\n",
        "    'Biya': [3, 9],\n",
        "    'Hassan': [42]\n",
        "}\n",
        "\n",
        "for name, numbers in favorite_numbers.items():\n",
        "    print(f\"{name.title()}'s favorite numbers are:\")\n",
        "    for number in numbers:\n",
        "        print(f\"\\t{number}\")\n",
        "    print()\n"
      ],
      "metadata": {
        "colab": {
          "base_uri": "https://localhost:8080/"
        },
        "id": "_Fg9wR8NcEaE",
        "outputId": "bddc104e-08d2-4f13-edbd-140e50a4bb03"
      },
      "execution_count": 13,
      "outputs": [
        {
          "output_type": "stream",
          "name": "stdout",
          "text": [
            "Jiya's favorite numbers are:\n",
            "\t7\n",
            "\t13\n",
            "\t22\n",
            "\n",
            "Biya's favorite numbers are:\n",
            "\t3\n",
            "\t9\n",
            "\n",
            "Hassan's favorite numbers are:\n",
            "\t42\n",
            "\n"
          ]
        }
      ]
    }
  ]
}