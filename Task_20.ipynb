{
  "nbformat": 4,
  "nbformat_minor": 0,
  "metadata": {
    "colab": {
      "provenance": []
    },
    "kernelspec": {
      "name": "python3",
      "display_name": "Python 3"
    },
    "language_info": {
      "name": "python"
    }
  },
  "cells": [
    {
      "cell_type": "code",
      "execution_count": 2,
      "metadata": {
        "colab": {
          "base_uri": "https://localhost:8080/"
        },
        "id": "16-N0MueOm_P",
        "outputId": "29542952-843a-4168-c582-86d1917fb8f3"
      },
      "outputs": [
        {
          "output_type": "stream",
          "name": "stdout",
          "text": [
            "Epoch 1/10\n",
            "516/516 [==============================] - 2s 3ms/step - loss: 27487.0312 - val_loss: 38.3633\n",
            "Epoch 2/10\n",
            "516/516 [==============================] - 2s 3ms/step - loss: 30.1098 - val_loss: 20.4795\n",
            "Epoch 3/10\n",
            "516/516 [==============================] - 1s 2ms/step - loss: 19.1134 - val_loss: 16.1188\n",
            "Epoch 4/10\n",
            "516/516 [==============================] - 1s 2ms/step - loss: 14.8429 - val_loss: 12.9819\n",
            "Epoch 5/10\n",
            "516/516 [==============================] - 1s 2ms/step - loss: 11.4911 - val_loss: 9.9305\n",
            "Epoch 6/10\n",
            "516/516 [==============================] - 1s 2ms/step - loss: 8.5094 - val_loss: 7.5832\n",
            "Epoch 7/10\n",
            "516/516 [==============================] - 1s 2ms/step - loss: 6.0260 - val_loss: 5.0911\n",
            "Epoch 8/10\n",
            "516/516 [==============================] - 1s 2ms/step - loss: 4.1700 - val_loss: 5.3036\n",
            "Epoch 9/10\n",
            "516/516 [==============================] - 1s 2ms/step - loss: 3.0261 - val_loss: 2.7408\n",
            "Epoch 10/10\n",
            "516/516 [==============================] - 1s 2ms/step - loss: 2.3350 - val_loss: 2.1975\n"
          ]
        },
        {
          "output_type": "execute_result",
          "data": {
            "text/plain": [
              "<keras.callbacks.History at 0x7f2965191a50>"
            ]
          },
          "metadata": {},
          "execution_count": 2
        }
      ],
      "source": [
        "import numpy as np\n",
        "from sklearn.datasets import fetch_california_housing\n",
        "from sklearn.model_selection import train_test_split\n",
        "from tensorflow.keras.models import Sequential\n",
        "from tensorflow.keras.layers import Dense\n",
        "\n",
        "# Load the California housing dataset\n",
        "housing_data = fetch_california_housing()\n",
        "X = housing_data.data\n",
        "y = housing_data.target\n",
        "\n",
        "# Split the data into training and testing sets\n",
        "X_train, X_test, y_train, y_test = train_test_split(X, y, test_size=0.2, random_state=42)\n",
        "\n",
        "# Create a regression model\n",
        "model = Sequential()\n",
        "model.add(Dense(10, activation='relu', input_shape=(8,)))\n",
        "model.add(Dense(1))\n",
        "\n",
        "# Compile the model\n",
        "model.compile(optimizer='adam', loss='mean_squared_error')\n",
        "\n",
        "# Train the model\n",
        "model.fit(X_train, y_train, epochs=10, batch_size=32, validation_data=(X_test, y_test))\n"
      ]
    }
  ]
}