{
  "nbformat": 4,
  "nbformat_minor": 0,
  "metadata": {
    "colab": {
      "provenance": []
    },
    "kernelspec": {
      "name": "python3",
      "display_name": "Python 3"
    },
    "language_info": {
      "name": "python"
    }
  },
  "cells": [
    {
      "cell_type": "markdown",
      "source": [
        "7.1"
      ],
      "metadata": {
        "id": "GVYrg7G-c3yu"
      }
    },
    {
      "cell_type": "code",
      "execution_count": 1,
      "metadata": {
        "colab": {
          "base_uri": "https://localhost:8080/"
        },
        "id": "KXypIpSBcvjl",
        "outputId": "758e6fca-4158-4bc4-cdaa-bc5d6c49cb82"
      },
      "outputs": [
        {
          "output_type": "stream",
          "name": "stdout",
          "text": [
            "What kind of rental car would you like? \n",
            "Let me see if I can find you a .\n"
          ]
        }
      ],
      "source": [
        "car_type = input(\"What kind of rental car would you like? \")\n",
        "print(f\"Let me see if I can find you a {car_type}.\")\n"
      ]
    },
    {
      "cell_type": "markdown",
      "source": [
        "7.2"
      ],
      "metadata": {
        "id": "awZeEJeUcybz"
      }
    },
    {
      "cell_type": "code",
      "source": [
        "group_size = input(\"How many people are in your dinner group? \")\n",
        "if int(group_size) > 8:\n",
        "  print(\"Sorry, you'll have to wait for a table.\")\n",
        "else:\n",
        "  print(\"Your table is ready.\")"
      ],
      "metadata": {
        "colab": {
          "base_uri": "https://localhost:8080/"
        },
        "id": "fxD_ipl7cylv",
        "outputId": "9aece38d-4cd5-45f3-b93f-4e26cf350c1c"
      },
      "execution_count": 3,
      "outputs": [
        {
          "output_type": "stream",
          "name": "stdout",
          "text": [
            "How many people are in your dinner group? 7\n",
            "Your table is ready.\n"
          ]
        }
      ]
    },
    {
      "cell_type": "markdown",
      "source": [
        "7.3"
      ],
      "metadata": {
        "id": "VBd00arec6u7"
      }
    },
    {
      "cell_type": "code",
      "source": [
        "number = input(\"Enter a number: \")\n",
        "if int(number) % 10 == 0:\n",
        "  print(f\"{number} is a multiple of 10.\")\n",
        "else:\n",
        "  print(f\"{number} is not a multiple of 10.\")"
      ],
      "metadata": {
        "colab": {
          "base_uri": "https://localhost:8080/"
        },
        "id": "Iy-CAqKwc8T-",
        "outputId": "2189249b-8299-42bb-f921-ce5b3499b6f4"
      },
      "execution_count": 4,
      "outputs": [
        {
          "output_type": "stream",
          "name": "stdout",
          "text": [
            "Enter a number: 122356\n",
            "122356 is not a multiple of 10.\n"
          ]
        }
      ]
    },
    {
      "cell_type": "markdown",
      "source": [
        "7.4"
      ],
      "metadata": {
        "id": "EFQbGxL2c8yX"
      }
    },
    {
      "cell_type": "code",
      "source": [
        "prompt = \"\\nPlease enter the topping you would like on your pizza:\"\n",
        "prompt += \"\\n(Enter 'quit' when you are finished.) \"\n",
        "\n",
        "while True:\n",
        "    topping = input(prompt)\n",
        "\n",
        "    if topping == 'quit':\n",
        "        break\n",
        "    else:\n",
        "        print(f\"I'll add {topping} to your pizza.\")\n"
      ],
      "metadata": {
        "colab": {
          "base_uri": "https://localhost:8080/"
        },
        "id": "vmzTHPXSdlsk",
        "outputId": "823042fd-8f2d-4996-a37c-03eeddbbf987"
      },
      "execution_count": 5,
      "outputs": [
        {
          "name": "stdout",
          "output_type": "stream",
          "text": [
            "\n",
            "Please enter the topping you would like on your pizza:\n",
            "(Enter 'quit' when you are finished.) Spicy BBQ Topping :)\n",
            "I'll add Spicy BBQ Topping :) to your pizza.\n",
            "\n",
            "Please enter the topping you would like on your pizza:\n",
            "(Enter 'quit' when you are finished.) quit\n"
          ]
        }
      ]
    },
    {
      "cell_type": "markdown",
      "source": [
        "7.5"
      ],
      "metadata": {
        "id": "ntyUNRnZdmoG"
      }
    },
    {
      "cell_type": "code",
      "source": [
        "while True:\n",
        "    age = input(\"How old are you? \")\n",
        "    if age == 'quit':\n",
        "        break\n",
        "\n",
        "    age = int(age)\n",
        "    if age < 3:\n",
        "        print(\"Your ticket is free.\")\n",
        "    elif age < 12:\n",
        "        print(\"Your ticket is $10.\")\n",
        "    else:\n",
        "        print(\"Your ticket is $15.\")\n"
      ],
      "metadata": {
        "colab": {
          "base_uri": "https://localhost:8080/"
        },
        "id": "mC-BWlvld1gc",
        "outputId": "8380db0d-33cb-49a7-9444-886c3321b71e"
      },
      "execution_count": 6,
      "outputs": [
        {
          "name": "stdout",
          "output_type": "stream",
          "text": [
            "How old are you? 21\n",
            "Your ticket is $15.\n",
            "How old are you? 30\n",
            "Your ticket is $15.\n",
            "How old are you? 50\n",
            "Your ticket is $15.\n",
            "How old are you? 4\n",
            "Your ticket is $10.\n",
            "How old are you? 1\n",
            "Your ticket is free.\n",
            "How old are you? quit\n"
          ]
        }
      ]
    },
    {
      "cell_type": "markdown",
      "source": [
        "7.6"
      ],
      "metadata": {
        "id": "OQucobojeBjz"
      }
    },
    {
      "cell_type": "code",
      "source": [
        "prompt = \"\\nPlease enter the topping you would like on your pizza:\"\n",
        "prompt += \"\\n(Enter 'quit' when you are finished.) \"\n",
        "\n",
        "topping = \"\"\n",
        "while topping != 'quit':\n",
        "    topping = input(prompt)\n",
        "\n",
        "    if topping != 'quit':\n",
        "        print(f\"I'll add {topping} to your pizza.\")\n"
      ],
      "metadata": {
        "colab": {
          "base_uri": "https://localhost:8080/"
        },
        "id": "3VlJoPWpeEhS",
        "outputId": "3fa4475e-c320-4769-d020-b12f8fd1ae21"
      },
      "execution_count": 7,
      "outputs": [
        {
          "name": "stdout",
          "output_type": "stream",
          "text": [
            "\n",
            "Please enter the topping you would like on your pizza:\n",
            "(Enter 'quit' when you are finished.) BBQ\n",
            "I'll add BBQ to your pizza.\n",
            "\n",
            "Please enter the topping you would like on your pizza:\n",
            "(Enter 'quit' when you are finished.) quit\n"
          ]
        }
      ]
    },
    {
      "cell_type": "code",
      "source": [
        "active = True\n",
        "while active:\n",
        "    age = input(\"How old are you? \")\n",
        "    if age == 'quit':\n",
        "        active = False\n",
        "    else:\n",
        "        age = int(age)\n",
        "        if age < 3:\n",
        "            print(\"Your ticket is free.\")\n",
        "        elif age < 12:\n",
        "            print(\"Your ticket is $10.\")\n",
        "        else:\n",
        "            print(\"Your ticket is $15.\")\n"
      ],
      "metadata": {
        "colab": {
          "base_uri": "https://localhost:8080/"
        },
        "id": "Q6AJ2WPdefCk",
        "outputId": "76d0c9c6-564a-47ec-f4be-3d2315df57d2"
      },
      "execution_count": 8,
      "outputs": [
        {
          "name": "stdout",
          "output_type": "stream",
          "text": [
            "How old are you? 2\n",
            "Your ticket is free.\n",
            "How old are you? 7\n",
            "Your ticket is $10.\n",
            "How old are you? quit\n"
          ]
        }
      ]
    },
    {
      "cell_type": "code",
      "source": [
        "prompt = \"\\nPlease enter the topping you would like on your pizza:\"\n",
        "prompt += \"\\n(Enter 'quit' when you are finished.) \"\n",
        "\n",
        "while True:\n",
        "    topping = input(prompt)\n",
        "\n",
        "    if topping == 'quit':\n",
        "        break\n",
        "    else:\n",
        "        print(f\"I'll add {topping} to your pizza.\")\n"
      ],
      "metadata": {
        "colab": {
          "base_uri": "https://localhost:8080/"
        },
        "id": "Du_XOSlaeotS",
        "outputId": "a843ff7c-b152-4d02-8d2c-ca28e240ea3c"
      },
      "execution_count": 9,
      "outputs": [
        {
          "name": "stdout",
          "output_type": "stream",
          "text": [
            "\n",
            "Please enter the topping you would like on your pizza:\n",
            "(Enter 'quit' when you are finished.) nothing\n",
            "I'll add nothing to your pizza.\n",
            "\n",
            "Please enter the topping you would like on your pizza:\n",
            "(Enter 'quit' when you are finished.) quit\n"
          ]
        }
      ]
    },
    {
      "cell_type": "markdown",
      "source": [
        "7.7"
      ],
      "metadata": {
        "id": "T4vfPhNoeFVB"
      }
    },
    {
      "cell_type": "code",
      "source": [
        "while True:\n",
        "    print(\"This loop will never end!\")\n"
      ],
      "metadata": {
        "id": "tx2fJA-teQMC"
      },
      "execution_count": 10,
      "outputs": []
    },
    {
      "cell_type": "markdown",
      "source": [
        "7.8"
      ],
      "metadata": {
        "id": "7KguGc3GeyO3"
      }
    },
    {
      "cell_type": "code",
      "source": [
        "sandwich_orders = ['tuna', 'chicken', 'vegetarian', 'turkey', 'ham']\n",
        "finished_sandwiches = []\n",
        "\n",
        "for sandwich in sandwich_orders:\n",
        "    print(f\"I made your {sandwich} sandwich.\")\n",
        "    finished_sandwiches.append(sandwich)\n",
        "\n",
        "print(\"All sandwiches have been made:\")\n",
        "for sandwich in finished_sandwiches:\n",
        "    print(sandwich)\n"
      ],
      "metadata": {
        "colab": {
          "base_uri": "https://localhost:8080/"
        },
        "id": "bTG8UadIfiJX",
        "outputId": "6115091f-4168-4b6b-933e-bf8268144458"
      },
      "execution_count": 11,
      "outputs": [
        {
          "output_type": "stream",
          "name": "stdout",
          "text": [
            "I made your tuna sandwich.\n",
            "I made your chicken sandwich.\n",
            "I made your vegetarian sandwich.\n",
            "I made your turkey sandwich.\n",
            "I made your ham sandwich.\n",
            "All sandwiches have been made:\n",
            "tuna\n",
            "chicken\n",
            "vegetarian\n",
            "turkey\n",
            "ham\n"
          ]
        }
      ]
    },
    {
      "cell_type": "markdown",
      "source": [
        "7.9"
      ],
      "metadata": {
        "id": "FC8Bkozwfi0i"
      }
    },
    {
      "cell_type": "code",
      "source": [
        "sandwich_orders = ['pastrami', 'tuna', 'pastrami', 'chicken', 'pastrami', 'vegetarian', 'turkey', 'ham']\n",
        "finished_sandwiches = []\n",
        "print(\"Sorry, we have run out of pastrami.\")\n",
        "\n",
        "while 'pastrami' in sandwich_orders:\n",
        "    sandwich_orders.remove('pastrami')\n",
        "\n",
        "for sandwich in sandwich_orders:\n",
        "    print(f\"I made your {sandwich} sandwich.\")\n",
        "    finished_sandwiches.append(sandwich)\n",
        "\n",
        "print(\"All sandwiches have been made:\")\n",
        "for sandwich in finished_sandwiches:\n",
        "    print(sandwich)\n"
      ],
      "metadata": {
        "colab": {
          "base_uri": "https://localhost:8080/"
        },
        "id": "s513kpCrfl-x",
        "outputId": "de1c33d5-8e4e-4851-f0c2-15da52127c45"
      },
      "execution_count": 12,
      "outputs": [
        {
          "output_type": "stream",
          "name": "stdout",
          "text": [
            "Sorry, we have run out of pastrami.\n",
            "I made your tuna sandwich.\n",
            "I made your chicken sandwich.\n",
            "I made your vegetarian sandwich.\n",
            "I made your turkey sandwich.\n",
            "I made your ham sandwich.\n",
            "All sandwiches have been made:\n",
            "tuna\n",
            "chicken\n",
            "vegetarian\n",
            "turkey\n",
            "ham\n"
          ]
        }
      ]
    },
    {
      "cell_type": "markdown",
      "source": [
        "7.10"
      ],
      "metadata": {
        "id": "AFrQpnkQfqTE"
      }
    },
    {
      "cell_type": "code",
      "source": [
        "responses = []\n",
        "while True:\n",
        "    response = input(\"If you could visit one place in the world, where would you go? (enter 'quit' to exit) \")\n",
        "    if response == 'quit':\n",
        "        break\n",
        "    else:\n",
        "        responses.append(response)\n",
        "\n",
        "print(\"Poll results:\")\n",
        "for response in responses:\n",
        "    print(response)\n"
      ],
      "metadata": {
        "colab": {
          "base_uri": "https://localhost:8080/"
        },
        "id": "udIbNsVSfnqI",
        "outputId": "594e4eeb-38a3-47e7-85e0-b2aefc35548b"
      },
      "execution_count": 13,
      "outputs": [
        {
          "output_type": "stream",
          "name": "stdout",
          "text": [
            "If you could visit one place in the world, where would you go? (enter 'quit' to exit) Switzerland\n",
            "If you could visit one place in the world, where would you go? (enter 'quit' to exit) Germany\n",
            "If you could visit one place in the world, where would you go? (enter 'quit' to exit) Iceland\n",
            "If you could visit one place in the world, where would you go? (enter 'quit' to exit) Saudia Arab\n",
            "If you could visit one place in the world, where would you go? (enter 'quit' to exit) quit\n",
            "Poll results:\n",
            "Switzerland\n",
            "Germany\n",
            "Iceland\n",
            "Saudia Arab\n"
          ]
        }
      ]
    },
    {
      "cell_type": "code",
      "source": [],
      "metadata": {
        "id": "IKO5aJWXfpnZ"
      },
      "execution_count": null,
      "outputs": []
    }
  ]
}