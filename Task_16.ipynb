{
  "nbformat": 4,
  "nbformat_minor": 0,
  "metadata": {
    "colab": {
      "provenance": []
    },
    "kernelspec": {
      "name": "python3",
      "display_name": "Python 3"
    },
    "language_info": {
      "name": "python"
    }
  },
  "cells": [
    {
      "cell_type": "code",
      "execution_count": 1,
      "metadata": {
        "id": "rz2rd28wSx-K",
        "outputId": "7312735a-a598-4bd5-dbdd-90b396773501",
        "colab": {
          "base_uri": "https://localhost:8080/"
        }
      },
      "outputs": [
        {
          "output_type": "stream",
          "name": "stdout",
          "text": [
            "Combined Data:\n",
            "   ID  Feature1  Feature2  Feature3  Feature4\n",
            "0   1      10.0     100.0       NaN       NaN\n",
            "1   2      20.0     200.0       NaN       NaN\n",
            "2   3      30.0     300.0       NaN       NaN\n",
            "3   4      40.0     400.0       NaN       NaN\n",
            "0   1       NaN       NaN      50.0     500.0\n",
            "1   2       NaN       NaN      60.0     600.0\n",
            "2   3       NaN       NaN      70.0     700.0\n",
            "3   4       NaN       NaN      80.0     800.0\n",
            "\n",
            "Merged Data:\n",
            "   ID  Feature1  Feature2  Feature3  Feature4\n",
            "0   1        10       100        50       500\n",
            "1   2        20       200        60       600\n",
            "2   3        30       300        70       700\n",
            "3   4        40       400        80       800\n",
            "\n",
            "Reshaped Data:\n",
            "Feature1    10    20    30    40\n",
            "ID                              \n",
            "1         50.0   NaN   NaN   NaN\n",
            "2          NaN  60.0   NaN   NaN\n",
            "3          NaN   NaN  70.0   NaN\n",
            "4          NaN   NaN   NaN  80.0\n"
          ]
        }
      ],
      "source": [
        "import pandas as pd\n",
        "\n",
        "# Creating example datasets\n",
        "data1 = pd.DataFrame({'ID': [1, 2, 3, 4],\n",
        "                      'Feature1': [10, 20, 30, 40],\n",
        "                      'Feature2': [100, 200, 300, 400]})\n",
        "\n",
        "data2 = pd.DataFrame({'ID': [1, 2, 3, 4],\n",
        "                      'Feature3': [50, 60, 70, 80],\n",
        "                      'Feature4': [500, 600, 700, 800]})\n",
        "\n",
        "# Combine datasets vertically (concatenation)\n",
        "combined_data = pd.concat([data1, data2], axis=0)\n",
        "\n",
        "# Merge datasets based on a common column (joining)\n",
        "merged_data = pd.merge(data1, data2, on='ID')\n",
        "\n",
        "# Reshape data using pivot table\n",
        "reshaped_data = pd.pivot_table(merged_data, values='Feature3', index='ID', columns='Feature1')\n",
        "\n",
        "# Print the results\n",
        "print(\"Combined Data:\")\n",
        "print(combined_data)\n",
        "print(\"\\nMerged Data:\")\n",
        "print(merged_data)\n",
        "print(\"\\nReshaped Data:\")\n",
        "print(reshaped_data)\n"
      ]
    },
    {
      "cell_type": "code",
      "source": [],
      "metadata": {
        "id": "sLvHyTa_S6FO"
      },
      "execution_count": null,
      "outputs": []
    }
  ]
}