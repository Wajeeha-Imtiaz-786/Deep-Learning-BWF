{
  "nbformat": 4,
  "nbformat_minor": 0,
  "metadata": {
    "colab": {
      "provenance": []
    },
    "kernelspec": {
      "name": "python3",
      "display_name": "Python 3"
    },
    "language_info": {
      "name": "python"
    }
  },
  "cells": [
    {
      "cell_type": "code",
      "execution_count": null,
      "metadata": {
        "id": "ZxpqDyZA3Gjh"
      },
      "outputs": [],
      "source": [
        "import numpy as np\n",
        "\n",
        "# Define a 2D array\n",
        "A = np.array([[1, 2], [3, 4]])\n",
        "\n",
        "# Define a 1D array\n",
        "B = np.array([10, 20])\n",
        "\n",
        "# Define a 3D array\n",
        "C = np.array([[[5, 5], [5, 5]], [[5, 5], [5, 5]]])\n",
        "\n",
        "# Broadcast the arrays and perform arithmetic operations\n",
        "D = A * B[:, np.newaxis, np.newaxis] + C\n",
        "\n",
        "print(D)\n"
      ]
    },
    {
      "cell_type": "markdown",
      "source": [
        "**Explanation:**\n",
        "2D array A with shape (2, 2)\n",
        "a 1D array B with shape (2,)\n",
        "3D array C with shape (2, 2, 2)\n",
        "Let's broadcast Now\n",
        "\n",
        "I added two new axes to B using B[:, np.newaxis, np.newaxis]. This changes the shape of B from (2,) to (2, 1, 1).\n",
        "Next B to the shape of A then performed element-wise multiplication.\n",
        "\n",
        "Lastly I added C to the result of the multiplication"
      ],
      "metadata": {
        "id": "J2QexJGO3N0l"
      }
    }
  ]
}