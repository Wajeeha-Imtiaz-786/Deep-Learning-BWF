{
  "nbformat": 4,
  "nbformat_minor": 0,
  "metadata": {
    "colab": {
      "provenance": []
    },
    "kernelspec": {
      "name": "python3",
      "display_name": "Python 3"
    },
    "language_info": {
      "name": "python"
    }
  },
  "cells": [
    {
      "cell_type": "markdown",
      "source": [
        "Linear Algebra with Numpy"
      ],
      "metadata": {
        "id": "91VsTKqKz1N2"
      }
    },
    {
      "cell_type": "markdown",
      "source": [
        "Matrix Multiplication"
      ],
      "metadata": {
        "id": "BZvdKRmkz8b-"
      }
    },
    {
      "cell_type": "code",
      "source": [
        "import numpy as np\n",
        "\n",
        "A = np.array([[1, 2], [3, 4]])\n",
        "B = np.array([[5, 6], [7, 8]])\n",
        "\n",
        "C = np.dot(A, B)\n",
        "\n",
        "print(C)\n"
      ],
      "metadata": {
        "colab": {
          "base_uri": "https://localhost:8080/"
        },
        "id": "Qp10lgKoz-c4",
        "outputId": "9d3cd40f-b908-4c7f-a873-7955c0e79ce2"
      },
      "execution_count": null,
      "outputs": [
        {
          "output_type": "stream",
          "name": "stdout",
          "text": [
            "[[19 22]\n",
            " [43 50]]\n"
          ]
        }
      ]
    },
    {
      "cell_type": "markdown",
      "source": [
        "Matrix Inverse"
      ],
      "metadata": {
        "id": "r26DZS--0vQx"
      }
    },
    {
      "cell_type": "code",
      "source": [
        "import numpy as np\n",
        "\n",
        "A = np.array([[1, 2], [3, 4]])\n",
        "\n",
        "B = np.linalg.inv(A)\n",
        "\n",
        "print(B)\n"
      ],
      "metadata": {
        "colab": {
          "base_uri": "https://localhost:8080/"
        },
        "id": "6_V7cpUY03z6",
        "outputId": "6f7d8a0d-e8f5-4ccc-a0f8-d36ebff0731f"
      },
      "execution_count": null,
      "outputs": [
        {
          "output_type": "stream",
          "name": "stdout",
          "text": [
            "[[-2.   1. ]\n",
            " [ 1.5 -0.5]]\n"
          ]
        }
      ]
    },
    {
      "cell_type": "markdown",
      "source": [
        "Matrix Determinant"
      ],
      "metadata": {
        "id": "kh4dtFHM035t"
      }
    },
    {
      "cell_type": "code",
      "source": [
        "import numpy as np\n",
        "\n",
        "A = np.array([[1, 2], [3, 4]])\n",
        "\n",
        "det_A = np.linalg.det(A)\n",
        "\n",
        "print(det_A)\n"
      ],
      "metadata": {
        "colab": {
          "base_uri": "https://localhost:8080/"
        },
        "id": "Wgyzc16f1Be9",
        "outputId": "c2407461-7166-42a7-e59e-d35ca4b74598"
      },
      "execution_count": null,
      "outputs": [
        {
          "output_type": "stream",
          "name": "stdout",
          "text": [
            "-2.0000000000000004\n"
          ]
        }
      ]
    },
    {
      "cell_type": "markdown",
      "source": [
        "matrix Rank"
      ],
      "metadata": {
        "id": "uhMS-KUQ1EYu"
      }
    },
    {
      "cell_type": "code",
      "source": [
        "import numpy as np\n",
        "\n",
        "A = np.array([[1, 2], [3, 4]])\n",
        "\n",
        "rank_A = np.linalg.matrix_rank(A)\n",
        "\n",
        "print(rank_A)\n"
      ],
      "metadata": {
        "colab": {
          "base_uri": "https://localhost:8080/"
        },
        "id": "uEasMls91GRX",
        "outputId": "1bffae86-60f8-46ac-bf07-ed5b3917fe0c"
      },
      "execution_count": null,
      "outputs": [
        {
          "output_type": "stream",
          "name": "stdout",
          "text": [
            "2\n"
          ]
        }
      ]
    },
    {
      "cell_type": "markdown",
      "source": [
        "Statistical Functions with NumPy:"
      ],
      "metadata": {
        "id": "B2R8m_0v1Gm2"
      }
    },
    {
      "cell_type": "markdown",
      "source": [
        "Mean, Median, Mode"
      ],
      "metadata": {
        "id": "JR3ZwVds1KB-"
      }
    },
    {
      "cell_type": "code",
      "source": [
        "import numpy as np\n",
        "from scipy.stats import mode\n",
        "\n",
        "A = np.array([1, 2, 3, 4, 5])\n",
        "\n",
        "mean_A = np.mean(A)\n",
        "median_A = np.median(A)\n",
        "mode_A = mode(A)\n",
        "\n",
        "print(mode_A.mode)\n",
        "print(mean_A)\n",
        "print(median_A)\n"
      ],
      "metadata": {
        "colab": {
          "base_uri": "https://localhost:8080/"
        },
        "id": "6Ga3r9GA1Qz6",
        "outputId": "bd2594ae-6e84-4815-825f-09b66798230b"
      },
      "execution_count": null,
      "outputs": [
        {
          "output_type": "stream",
          "name": "stdout",
          "text": [
            "[1]\n",
            "3.0\n",
            "3.0\n"
          ]
        },
        {
          "output_type": "stream",
          "name": "stderr",
          "text": [
            "<ipython-input-11-9a4f72430564>:8: FutureWarning: Unlike other reduction functions (e.g. `skew`, `kurtosis`), the default behavior of `mode` typically preserves the axis it acts along. In SciPy 1.11.0, this behavior will change: the default value of `keepdims` will become False, the `axis` over which the statistic is taken will be eliminated, and the value None will no longer be accepted. Set `keepdims` to True or False to avoid this warning.\n",
            "  mode_A = mode(A)\n"
          ]
        }
      ]
    },
    {
      "cell_type": "markdown",
      "source": [
        "Standard Deviation, Variance"
      ],
      "metadata": {
        "id": "RoIR-z8J1RHq"
      }
    },
    {
      "cell_type": "code",
      "source": [
        "import numpy as np\n",
        "\n",
        "A = np.array([1, 2, 3, 4, 5])\n",
        "\n",
        "std_A = np.std(A)\n",
        "var_A = np.var(A)\n",
        "\n",
        "print(std_A)\n",
        "print(var_A)\n"
      ],
      "metadata": {
        "colab": {
          "base_uri": "https://localhost:8080/"
        },
        "id": "QtE7X0QD10qc",
        "outputId": "9162b94c-f8f0-4d1a-d00d-51dd88f500e4"
      },
      "execution_count": null,
      "outputs": [
        {
          "output_type": "stream",
          "name": "stdout",
          "text": [
            "1.4142135623730951\n",
            "2.0\n"
          ]
        }
      ]
    },
    {
      "cell_type": "markdown",
      "source": [
        "Quantiles"
      ],
      "metadata": {
        "id": "W8-O2mBL12cm"
      }
    },
    {
      "cell_type": "code",
      "source": [
        "import numpy as np\n",
        "\n",
        "A = np.array([1, 2, 3, 4, 5])\n",
        "\n",
        "quantiles_A = np.percentile(A, [25, 50, 75])\n",
        "\n",
        "print(quantiles_A)\n"
      ],
      "metadata": {
        "colab": {
          "base_uri": "https://localhost:8080/"
        },
        "id": "RH5lJxux16AT",
        "outputId": "9fe0b23c-6b72-40a2-9dcf-92618c382427"
      },
      "execution_count": null,
      "outputs": [
        {
          "output_type": "stream",
          "name": "stdout",
          "text": [
            "[2. 3. 4.]\n"
          ]
        }
      ]
    },
    {
      "cell_type": "code",
      "source": [],
      "metadata": {
        "id": "uKwvAIIi2BRo"
      },
      "execution_count": null,
      "outputs": []
    }
  ]
}